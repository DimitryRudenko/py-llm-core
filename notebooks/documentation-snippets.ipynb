{
 "cells": [
  {
   "cell_type": "markdown",
   "id": "eaa2b1e3-3569-47c0-ace1-e304e79debb9",
   "metadata": {},
   "source": [
    "# Documentation snippets\n",
    "\n",
    "## Quick start\n",
    "\n",
    "```shell\n",
    "pip install py-llm-core\n",
    "```\n",
    "\n",
    "\n",
    "To use OpenAI models, set your API key:\n",
    "```shell\n",
    "export OPENAI_API_KEY=sk-<replace with your actual api key>\n",
    "```\n",
    "\n",
    "To use MistralAI models, set your API key\n",
    "```shell\n",
    "export MISTRAL_API_KEY=sk-<replace with your actual api key>\n",
    "```\n",
    "\n",
    "To use local models (i.e. completely offline):\n",
    "\n",
    "- Download and store your models in ~/.cache/py-llm-core/models/\n",
    "- You may change this directory by setting the environment variable MODELS_CACHE_DIR\n",
    "- See the src/settings.py module\n",
    "\n",
    "The following commands download the best models (you can use any GGUF models)\n",
    "- LLaMA-3.1-8B (Quantized version Q4_K_M)\n",
    "- Mistral 7B v0.3 (Quantized version Q4_K_M)\n",
    "\n",
    "```shell\n",
    "mkdir -p ~/.cache/py-llm-core/models\n",
    "wget -O ~/.cache/py-llm-core/models/llama-8b-3.1-q4 \\\n",
    "    https://huggingface.co/lmstudio-community/Meta-Llama-3.1-8B-Instruct-GGUF/resolve/main/Meta-Llama-3.1-8B-Instruct-Q4_K_M.gguf?download=true\n",
    "\n",
    "wget -O ~/.cache/py-llm-core/models/mistral-7b-v0.3-q4 \\\n",
    "    https://huggingface.co/lmstudio-community/Mistral-7B-Instruct-v0.3-GGUF/resolve/main/Mistral-7B-Instruct-v0.3-Q4_K_M.gguf?download=true\n",
    "```"
   ]
  },
  {
   "cell_type": "code",
   "execution_count": 1,
   "id": "39ab0d66-e157-41eb-8d65-92923eb068bd",
   "metadata": {},
   "outputs": [
    {
     "name": "stdout",
     "output_type": "stream",
     "text": [
      "Book(title='Foundation', summary='The first book in the Foundation series, it introduces the concept of psychohistory and the fall of the Galactic Empire.', author='Isaac Asimov', published_year=1951)\n",
      "Book(title='Foundation and Empire', summary='The second book in the series, it continues the story of the Foundation as it faces external threats and internal challenges.', author='Isaac Asimov', published_year=1952)\n",
      "Book(title='Second Foundation', summary=\"The third book in the series, it reveals the existence of a secretive group working to protect the Foundation's future.\", author='Isaac Asimov', published_year=1953)\n",
      "Book(title=\"Foundation's Edge\", summary='A sequel to the original trilogy, it explores the search for the mythical Second Foundation and the implications of psychohistory.', author='Isaac Asimov', published_year=1982)\n",
      "Book(title='Foundation and Earth', summary=\"The sequel to Foundation's Edge, it follows the quest to find Earth and understand its significance in the galaxy.\", author='Isaac Asimov', published_year=1986)\n",
      "Book(title='Prelude to Foundation', summary='A prequel to the original trilogy, it tells the story of Hari Seldon and the development of psychohistory.', author='Isaac Asimov', published_year=1988)\n",
      "Book(title='Forward the Foundation', summary='Another prequel, it continues the story of Hari Seldon and the challenges he faces in establishing the Foundation.', author='Isaac Asimov', published_year=1993)\n"
     ]
    }
   ],
   "source": [
    "from typing import List, Dict\n",
    "from dataclasses import dataclass\n",
    "\n",
    "@dataclass\n",
    "class Book:\n",
    "    title: str\n",
    "    summary: str\n",
    "    author: str\n",
    "    published_year: int\n",
    "\n",
    "@dataclass\n",
    "class BookCollection:\n",
    "    books: List[Book]\n",
    "\n",
    "\n",
    "text = \"\"\"The Foundation series is a science fiction book series written by\n",
    "American author Isaac Asimov. First published as a series of short\n",
    "stories and novellas in 1942–50, and subsequently in three books in\n",
    "1951–53, for nearly thirty years the series was widely known as The\n",
    "Foundation Trilogy: Foundation (1951), Foundation and Empire (1952),\n",
    "and Second Foundation (1953). It won the one-time Hugo Award for \"Best\n",
    "All-Time Series\" in 1966. Asimov later added new volumes, with two\n",
    "sequels, Foundation's Edge (1982) and Foundation and Earth (1986), and\n",
    "two prequels, Prelude to Foundation (1988) and Forward the Foundation\n",
    "(1993).\"\"\"\n",
    "\n",
    "from llm_core.parsers import OpenAIParser\n",
    "\n",
    "# default model is \"gpt-4o-mini\"\n",
    "with OpenAIParser(BookCollection) as parser:\n",
    "    books_collection = parser.parse(text)\n",
    "    \n",
    "    for book in books_collection.books:\n",
    "        print(book)"
   ]
  },
  {
   "cell_type": "code",
   "execution_count": 2,
   "id": "de65629d-cd4a-4acb-b08e-445d2464f111",
   "metadata": {},
   "outputs": [
    {
     "name": "stdout",
     "output_type": "stream",
     "text": [
      "Book(title='Foundation', summary='A science fiction book series written by American author Isaac Asimov. First published as a series of short stories and novellas in 1942–50, and subsequently in three books in 1951–53.', author='Isaac Asimov', published_year=1951)\n",
      "Book(title='Foundation and Empire', summary='A science fiction book series written by American author Isaac Asimov. First published as a series of short stories and novellas in 1942–50, and subsequently in three books in 1951–53.', author='Isaac Asimov', published_year=1952)\n",
      "Book(title='Second Foundation', summary='A science fiction book series written by American author Isaac Asimov. First published as a series of short stories and novellas in 1942–50, and subsequently in three books in 1951–53.', author='Isaac Asimov', published_year=1953)\n",
      "Book(title=\"Foundation's Edge\", summary='A science fiction book series written by American author Isaac Asimov. First published as a series of short stories and novellas in 1942–50, and subsequently in three books in 1951–53.', author='Isaac Asimov', published_year=1982)\n",
      "Book(title='Foundation and Earth', summary='A science fiction book series written by American author Isaac Asimov. First published as a series of short stories and novellas in 1942–50, and subsequently in three books in 1951–53.', author='Isaac Asimov', published_year=1986)\n",
      "Book(title='Prelude to Foundation', summary='A science fiction book series written by American author Isaac Asimov. First published as a series of short stories and novellas in 1942–50, and subsequently in three books in 1951–53.', author='Isaac Asimov', published_year=1988)\n",
      "Book(title='Forward the Foundation', summary='A science fiction book series written by American author Isaac Asimov. First published as a series of short stories and novellas in 1942–50, and subsequently in three books in 1951–53.', author='Isaac Asimov', published_year=1993)\n"
     ]
    }
   ],
   "source": [
    "from llm_core.parsers import OpenWeightsParser\n",
    "\n",
    "# default model is \"mistral-7b-v0.3-q4\"\n",
    "with OpenWeightsParser(BookCollection) as parser:\n",
    "    books_collection = parser.parse(text)\n",
    "\n",
    "    for book in books_collection.books:\n",
    "        print(book)"
   ]
  },
  {
   "cell_type": "code",
   "execution_count": null,
   "id": "ff0e776c-f48a-43b9-b4d2-884c1e249aa7",
   "metadata": {},
   "outputs": [],
   "source": []
  },
  {
   "cell_type": "code",
   "execution_count": 3,
   "id": "ffd0064e-c76e-4b2e-8555-517f992d5e1b",
   "metadata": {},
   "outputs": [
    {
     "name": "stdout",
     "output_type": "stream",
     "text": [
      "Book(title='Foundation', summary='The first book in the Foundation series, it introduces the concept of psychohistory and the fall of the Galactic Empire.', author='Isaac Asimov', published_year=1951)\n",
      "Book(title='Foundation and Empire', summary='The second book continues the story of the Foundation as it faces challenges from the remnants of the Galactic Empire.', author='Isaac Asimov', published_year=1952)\n",
      "Book(title='Second Foundation', summary='The third book reveals the existence of the Second Foundation and its role in guiding the future of the galaxy.', author='Isaac Asimov', published_year=1953)\n",
      "Book(title=\"Foundation's Edge\", summary='A sequel that explores the search for the mythical Second Foundation and the implications of psychohistory.', author='Isaac Asimov', published_year=1982)\n",
      "Book(title='Foundation and Earth', summary=\"The sequel to Foundation's Edge, it follows the quest to find Earth and its significance in the Foundation's future.\", author='Isaac Asimov', published_year=1986)\n",
      "Book(title='Prelude to Foundation', summary='A prequel that delves into the early life of Hari Seldon, the creator of psychohistory.', author='Isaac Asimov', published_year=1988)\n",
      "Book(title='Forward the Foundation', summary='Another prequel that continues the story of Hari Seldon and the establishment of the Foundation.', author='Isaac Asimov', published_year=1993)\n"
     ]
    }
   ],
   "source": [
    "# Using Azure\n",
    "from llm_core.llm import AzureOpenAIChatModel\n",
    "from llm_core.parsers import OpenAIParser\n",
    "\n",
    "# default model is \"gpt-4o-mini\"\n",
    "with OpenAIParser(BookCollection, model_cls=AzureOpenAIChatModel) as parser:\n",
    "    books_collection = parser.parse(text)\n",
    "    \n",
    "    for book in books_collection.books:\n",
    "        print(book)"
   ]
  },
  {
   "cell_type": "code",
   "execution_count": 4,
   "id": "a1ecd2f0-a5a6-4070-b0f2-8a9060cf0e62",
   "metadata": {},
   "outputs": [
    {
     "name": "stdout",
     "output_type": "stream",
     "text": [
      "Book(title='Foundation', summary='Foundation is the first book in the Foundation series, published in 1951.', author='Isaac Asimov', published_year=1951)\n",
      "Book(title='Foundation and Empire', summary='Foundation and Empire is the second book in the Foundation series, published in 1952.', author='Isaac Asimov', published_year=1952)\n",
      "Book(title='Second Foundation', summary='Second Foundation is the third book in the Foundation series, published in 1953.', author='Isaac Asimov', published_year=1953)\n",
      "Book(title=\"Foundation's Edge\", summary=\"Foundation's Edge is the fourth book in the Foundation series, published in 1982.\", author='Isaac Asimov', published_year=1982)\n",
      "Book(title='Foundation and Earth', summary='Foundation and Earth is the fifth book in the Foundation series, published in 1986.', author='Isaac Asimov', published_year=1986)\n",
      "Book(title='Prelude to Foundation', summary='Prelude to Foundation is the sixth book in the Foundation series, published in 1988.', author='Isaac Asimov', published_year=1988)\n",
      "Book(title='Forward the Foundation', summary='Forward the Foundation is the seventh book in the Foundation series, published in 1993.', author='Isaac Asimov', published_year=1993)\n"
     ]
    }
   ],
   "source": [
    "from llm_core.parsers import MistralAIParser\n",
    "\n",
    "# default model is \"open-mistral-nemo\"\n",
    "with MistralAIParser(BookCollection) as parser:\n",
    "    books_collection = parser.parse(text)\n",
    "    \n",
    "    for book in books_collection.books:\n",
    "        print(book)"
   ]
  },
  {
   "cell_type": "code",
   "execution_count": 5,
   "id": "16f99239-6b60-4593-aa75-50cc42ea0be3",
   "metadata": {},
   "outputs": [
    {
     "name": "stdout",
     "output_type": "stream",
     "text": [
      "Book(title='Foundation', summary='The first book in the Foundation series, originally published as a collection of short stories and novellas.', author='Isaac Asimov', published_year=1951)\n",
      "Book(title='Foundation and Empire', summary='The second book in the Foundation trilogy.', author='Isaac Asimov', published_year=1952)\n",
      "Book(title='Second Foundation', summary='The third book in the Foundation trilogy.', author='Isaac Asimov', published_year=1953)\n",
      "Book(title=\"Foundation's Edge\", summary='A sequel to the original Foundation trilogy.', author='Isaac Asimov', published_year=1982)\n",
      "Book(title='Foundation and Earth', summary='Another sequel to the Foundation series.', author='Isaac Asimov', published_year=1986)\n",
      "Book(title='Prelude to Foundation', summary='A prequel to the Foundation series.', author='Isaac Asimov', published_year=1988)\n",
      "Book(title='Forward the Foundation', summary='Another prequel to the Foundation series.', author='Isaac Asimov', published_year=1993)\n"
     ]
    }
   ],
   "source": [
    "from llm_core.parsers import AnthropicParser\n",
    "\n",
    "# default model is Claude Sonnet 3.5\n",
    "with AnthropicParser(BookCollection) as parser:\n",
    "    books_collection = parser.parse(text)\n",
    "    \n",
    "    for book in books_collection.books:\n",
    "        print(book)"
   ]
  },
  {
   "cell_type": "code",
   "execution_count": 1,
   "id": "0bc1aaa0-96c2-4a39-9eb4-2d8cb103431a",
   "metadata": {},
   "outputs": [
    {
     "name": "stdout",
     "output_type": "stream",
     "text": [
      "Leon Marchand won the gold medal in the men's 400m individual medley at the 2024 Olympics.\n"
     ]
    }
   ],
   "source": [
    "# Implement SearchGPT in less than 30 lines\n",
    "\n",
    "import requests\n",
    "from decouple import config\n",
    "from dataclasses import dataclass\n",
    "from llm_core.llm import OpenAIChatModel\n",
    "\n",
    "@dataclass\n",
    "class WebSearchProvider:\n",
    "    query: str\n",
    "\n",
    "    def __call__(self):\n",
    "        url = \"https://api.search.brave.com/res/v1/web/search\"\n",
    "        headers = {\"X-Subscription-Token\": config(\"BRAVE_AI_API_KEY\")}\n",
    "        response = requests.get(\n",
    "            url,\n",
    "            headers=headers,\n",
    "            params={\n",
    "                \"q\": self.query,\n",
    "                \"extra_snippets\": True\n",
    "            }\n",
    "        )\n",
    "        return response.json()[\"web\"][\"results\"][0:5]\n",
    "\n",
    "\n",
    "providers = [WebSearchProvider]\n",
    "\n",
    "with OpenAIChatModel(name=\"gpt-4o-mini\") as llm:\n",
    "    resp = llm.ask(\n",
    "        prompt=\"Who won the 400m men individual medley at the 2024 Olympics?\",\n",
    "        tools=providers\n",
    "    )\n",
    "\n",
    "print(resp.choices[0].message.content)"
   ]
  },
  {
   "cell_type": "code",
   "execution_count": null,
   "id": "8ff35631-c341-44eb-9c22-1c7f2266e6f3",
   "metadata": {},
   "outputs": [],
   "source": []
  },
  {
   "cell_type": "code",
   "execution_count": 3,
   "id": "d00706a7-2d20-439b-a372-1a66fe059bfd",
   "metadata": {},
   "outputs": [
    {
     "name": "stdout",
     "output_type": "stream",
     "text": [
      "The current prime minister of France is **Michel Barnier**, who was appointed on September 5, 2024. \n",
      "\n"
     ]
    }
   ],
   "source": [
    "import requests\n",
    "from decouple import config\n",
    "from dataclasses import dataclass\n",
    "from llm_core.llm import GoogleAIModel\n",
    "\n",
    "@dataclass\n",
    "class WebSearchProvider:\n",
    "    query: str\n",
    "\n",
    "    def __call__(self):\n",
    "        url = \"https://api.search.brave.com/res/v1/web/search\"\n",
    "        headers = {\"X-Subscription-Token\": config(\"BRAVE_AI_API_KEY\")}\n",
    "        response = requests.get(\n",
    "            url,\n",
    "            headers=headers,\n",
    "            params={\n",
    "                \"q\": self.query,\n",
    "                \"extra_snippets\": True\n",
    "            }\n",
    "        )\n",
    "        return response.json()[\"web\"][\"results\"][0:15]\n",
    "\n",
    "\n",
    "providers = [WebSearchProvider]\n",
    "\n",
    "with GoogleAIModel(name=\"gemini-1.5-flash\") as llm:\n",
    "    resp = llm.ask(\n",
    "        prompt=\"Who's the prime minister in France ?\",\n",
    "        tools=providers\n",
    "    )\n",
    "\n",
    "print(resp.choices[0].message.content)"
   ]
  },
  {
   "cell_type": "code",
   "execution_count": null,
   "id": "8afa2319-147f-46ae-8e94-5500384a9acb",
   "metadata": {},
   "outputs": [],
   "source": []
  },
  {
   "cell_type": "code",
   "execution_count": null,
   "id": "e9cd4ce6-8d47-486e-bdd0-31c3eb51dde2",
   "metadata": {},
   "outputs": [],
   "source": []
  },
  {
   "cell_type": "code",
   "execution_count": 2,
   "id": "dbb168e7-1d4f-4135-b5ea-5094b40c1e4d",
   "metadata": {},
   "outputs": [
    {
     "data": {
      "text/plain": [
       "Hash(hashed_content='py-llm-core', hash_algorithm=<HashFunction.sha256: 2>, hash_value='38ec92d973268cb671e9cd98a2f5a7b8c4d451d87b61670c1fe236fd7777f708')"
      ]
     },
     "execution_count": 2,
     "metadata": {},
     "output_type": "execute_result"
    }
   ],
   "source": [
    "import hashlib\n",
    "from enum import Enum\n",
    "from dataclasses import dataclass\n",
    "from llm_core.assistants import OpenAIAssistant\n",
    "\n",
    "\n",
    "HashFunction = Enum(\"HashFunction\", [\"sha512\", \"sha256\", \"md5\"])\n",
    "\n",
    "\n",
    "@dataclass\n",
    "class HashProvider:\n",
    "    hash_function: HashFunction\n",
    "    content: str\n",
    "\n",
    "    def __call__(self):\n",
    "        hash_fn = getattr(hashlib, self.hash_function.name)\n",
    "        return hash_fn(self.content.encode('utf-8')).hexdigest()\n",
    "\n",
    "\n",
    "@dataclass\n",
    "class Hash:\n",
    "    system_prompt = \"You are a helpful assistant\"\n",
    "    prompt = \"{prompt}\"\n",
    "\n",
    "    hashed_content: str\n",
    "    hash_algorithm: HashFunction\n",
    "    hash_value: str\n",
    "\n",
    "    @classmethod\n",
    "    def ask(cls, prompt):\n",
    "        with OpenAIAssistant(cls, tools=[HashProvider]) as assistant:\n",
    "            response = assistant.process(prompt=prompt)\n",
    "            return response\n",
    "\n",
    "Hash.ask('Compute the sha256 for `py-llm-core`')"
   ]
  },
  {
   "cell_type": "code",
   "execution_count": 3,
   "id": "c739f963-df9f-47c5-bf1f-c71e005f78d2",
   "metadata": {},
   "outputs": [
    {
     "name": "stdout",
     "output_type": "stream",
     "text": [
      "Foundation is a science fiction novel by American writer\n",
      "Isaac Asimov. It is the first published in his Foundation Trilogy (later\n",
      "expanded into the Foundation series). Foundation is a cycle of five\n",
      "interrelated short stories, first published as a\n",
      " single book by Gnome Press\n",
      "in 1951. Collectively they tell the early story of the Foundation,\n",
      "an institute founded by psychohistorian Hari Seldon to preserve the best\n",
      "of galactic civilization after the collapse of the Galactic Empire.\n",
      "\n"
     ]
    }
   ],
   "source": [
    "from llm_core.splitters import TokenSplitter\n",
    "import codecs\n",
    "\n",
    "text = \"\"\"Foundation is a science fiction novel by American writer\n",
    "Isaac Asimov. It is the first published in his Foundation Trilogy (later\n",
    "expanded into the Foundation series). Foundation is a cycle of five\n",
    "interrelated short stories, first published as a single book by Gnome Press\n",
    "in 1951. Collectively they tell the early story of the Foundation,\n",
    "an institute founded by psychohistorian Hari Seldon to preserve the best\n",
    "of galactic civilization after the collapse of the Galactic Empire.\n",
    "\"\"\"\n",
    "\n",
    "# You can encode the text into tokens like that:\n",
    "tokens = codecs.encode(text, 'tiktoken')\n",
    "token_length = len(tokens)\n",
    "\n",
    "# Chunking and splitting\n",
    "splitter = TokenSplitter(\n",
    "    chunk_size=50,\n",
    "    chunk_overlap=0\n",
    ")\n",
    "\n",
    "for chunk in splitter.chunkify(text):\n",
    "    print(chunk)"
   ]
  },
  {
   "cell_type": "code",
   "execution_count": null,
   "id": "2f733b7d-1c8d-495a-a0e9-33fa843c9191",
   "metadata": {},
   "outputs": [],
   "source": []
  },
  {
   "cell_type": "code",
   "execution_count": null,
   "id": "b9306d93-781f-465d-a03b-d7de8dbbedaa",
   "metadata": {},
   "outputs": [],
   "source": []
  },
  {
   "cell_type": "code",
   "execution_count": null,
   "id": "3bb573c7-c79f-4e9d-ab44-51d2446515e1",
   "metadata": {},
   "outputs": [],
   "source": []
  },
  {
   "cell_type": "code",
   "execution_count": 4,
   "id": "0f454f2c-4fc3-4e7b-8d31-f6cdac8f62a9",
   "metadata": {},
   "outputs": [
    {
     "data": {
      "text/plain": [
       "UserQuery(operation=<CRUDOperation.DELETE: 4>, target=<TargetItem.MEETING: 4>)"
      ]
     },
     "execution_count": 4,
     "metadata": {},
     "output_type": "execute_result"
    }
   ],
   "source": [
    "from enum import Enum\n",
    "from dataclasses import dataclass\n",
    "from llm_core.assistants import OpenWeightsAssistant\n",
    "\n",
    "class TargetItem(Enum):\n",
    "    PROJECT = 1\n",
    "    TASK = 2\n",
    "    COMMENT = 3\n",
    "    MEETING = 4\n",
    "\n",
    "\n",
    "class CRUDOperation(Enum):\n",
    "    CREATE = 1\n",
    "    READ = 2\n",
    "    UPDATE = 3\n",
    "    DELETE = 4\n",
    "\n",
    "\n",
    "@dataclass\n",
    "class UserQuery:\n",
    "    system_prompt = \"You are a helpful assistant.\"\n",
    "    prompt = \"\"\"\n",
    "    Analyze the user's query and convert his intent to:\n",
    "    - an operation (among CRUD)\n",
    "    - a target item\n",
    "\n",
    "    Query: {prompt}\n",
    "    \"\"\"\n",
    "    operation: CRUDOperation\n",
    "    target: TargetItem\n",
    "\n",
    "\n",
    "def ask(prompt):\n",
    "    with OpenWeightsAssistant(UserQuery, model=\"llama-8b-3.1-q4\", loader_kwargs={\"n_ctx\": 2_000}) as assistant:\n",
    "        user_query = assistant.process(prompt=prompt)\n",
    "        return user_query\n",
    "\n",
    "ask('Cancel all my meetings for the week')"
   ]
  },
  {
   "cell_type": "code",
   "execution_count": null,
   "id": "7a8e2da0-f2a5-4d60-af35-40985461ead1",
   "metadata": {},
   "outputs": [],
   "source": []
  },
  {
   "cell_type": "code",
   "execution_count": null,
   "id": "21f0be7f-1d4d-470c-904a-fd827b82714b",
   "metadata": {},
   "outputs": [],
   "source": []
  },
  {
   "cell_type": "code",
   "execution_count": 5,
   "id": "4306b67f-ed9b-4df1-b9ea-4471da012afa",
   "metadata": {},
   "outputs": [
    {
     "data": {
      "text/plain": [
       "SmarterGPT(content=\"There are 3 occurrences of the letter 'r' in the word 'strawberry'.\")"
      ]
     },
     "execution_count": 5,
     "metadata": {},
     "output_type": "execute_result"
    }
   ],
   "source": [
    "from dataclasses import dataclass\n",
    "from llm_core.assistants import OpenAIAssistant\n",
    "\n",
    "@dataclass\n",
    "class LetterCounter:\n",
    "    letter: str\n",
    "    content: str\n",
    "\n",
    "    def __call__(self):\n",
    "        return self.content.count(self.letter)\n",
    "\n",
    "@dataclass\n",
    "class SmarterGPT:\n",
    "    system_prompt = \"You are a helpful assistant\"\n",
    "    prompt = \"{prompt}\"\n",
    "\n",
    "    content: str\n",
    "\n",
    "    @classmethod\n",
    "    def ask(cls, prompt):\n",
    "        with OpenAIAssistant(cls) as assistant:\n",
    "            assistant.tools = [LetterCounter]\n",
    "            response = assistant.process(prompt=prompt)\n",
    "            return response\n",
    "\n",
    "SmarterGPT.ask('How many \"r\" are in strawberry ?')"
   ]
  },
  {
   "cell_type": "code",
   "execution_count": null,
   "id": "262c88b8-1225-4a74-aa64-2f4628314369",
   "metadata": {},
   "outputs": [],
   "source": []
  },
  {
   "cell_type": "code",
   "execution_count": null,
   "id": "56906528-bdfb-403d-85b8-795fb94126e7",
   "metadata": {},
   "outputs": [],
   "source": []
  },
  {
   "cell_type": "code",
   "execution_count": null,
   "id": "cf0b8a00-3cac-454a-a13d-498aaa28c749",
   "metadata": {},
   "outputs": [],
   "source": []
  },
  {
   "cell_type": "code",
   "execution_count": null,
   "id": "ab2057df-da9a-49b3-8baa-e232bb30b708",
   "metadata": {},
   "outputs": [],
   "source": []
  },
  {
   "cell_type": "code",
   "execution_count": null,
   "id": "d8bdd885-169f-46e1-af5e-e4f75df38683",
   "metadata": {},
   "outputs": [],
   "source": []
  },
  {
   "cell_type": "code",
   "execution_count": null,
   "id": "97f95a70-5981-4286-8c9f-d8afa8212950",
   "metadata": {},
   "outputs": [],
   "source": []
  },
  {
   "cell_type": "code",
   "execution_count": null,
   "id": "a8871de2-a69b-4f64-a99a-9e22335e9929",
   "metadata": {},
   "outputs": [],
   "source": []
  }
 ],
 "metadata": {
  "kernelspec": {
   "display_name": "Python 3 (ipykernel)",
   "language": "python",
   "name": "python3"
  },
  "language_info": {
   "codemirror_mode": {
    "name": "ipython",
    "version": 3
   },
   "file_extension": ".py",
   "mimetype": "text/x-python",
   "name": "python",
   "nbconvert_exporter": "python",
   "pygments_lexer": "ipython3",
   "version": "3.11.10"
  }
 },
 "nbformat": 4,
 "nbformat_minor": 5
}
